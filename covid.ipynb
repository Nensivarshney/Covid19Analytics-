{
 "cells": [
  {
   "cell_type": "code",
   "execution_count": 1,
   "id": "ce4c92d1-2c4d-4c6c-b264-efcb6911fa4f",
   "metadata": {},
   "outputs": [
    {
     "data": {
      "text/html": [
       "<div>\n",
       "<style scoped>\n",
       "    .dataframe tbody tr th:only-of-type {\n",
       "        vertical-align: middle;\n",
       "    }\n",
       "\n",
       "    .dataframe tbody tr th {\n",
       "        vertical-align: top;\n",
       "    }\n",
       "\n",
       "    .dataframe thead th {\n",
       "        text-align: right;\n",
       "    }\n",
       "</style>\n",
       "<table border=\"1\" class=\"dataframe\">\n",
       "  <thead>\n",
       "    <tr style=\"text-align: right;\">\n",
       "      <th></th>\n",
       "      <th>Country</th>\n",
       "      <th>Other names</th>\n",
       "      <th>ISO 3166-1 alpha-3 CODE</th>\n",
       "      <th>Population</th>\n",
       "      <th>Continent</th>\n",
       "      <th>Total Cases</th>\n",
       "      <th>Total Deaths</th>\n",
       "      <th>Tot Cases//1M pop</th>\n",
       "      <th>Tot Deaths/1M pop</th>\n",
       "      <th>Death percentage</th>\n",
       "    </tr>\n",
       "  </thead>\n",
       "  <tbody>\n",
       "    <tr>\n",
       "      <th>0</th>\n",
       "      <td>Afghanistan</td>\n",
       "      <td>Afghanistan</td>\n",
       "      <td>AFG</td>\n",
       "      <td>40462186</td>\n",
       "      <td>Asia</td>\n",
       "      <td>177827</td>\n",
       "      <td>7671</td>\n",
       "      <td>4395</td>\n",
       "      <td>190</td>\n",
       "      <td>4.313743</td>\n",
       "    </tr>\n",
       "    <tr>\n",
       "      <th>1</th>\n",
       "      <td>Albania</td>\n",
       "      <td>Albania</td>\n",
       "      <td>ALB</td>\n",
       "      <td>2872296</td>\n",
       "      <td>Europe</td>\n",
       "      <td>273870</td>\n",
       "      <td>3492</td>\n",
       "      <td>95349</td>\n",
       "      <td>1216</td>\n",
       "      <td>1.275058</td>\n",
       "    </tr>\n",
       "    <tr>\n",
       "      <th>2</th>\n",
       "      <td>Algeria</td>\n",
       "      <td>Algeria</td>\n",
       "      <td>DZA</td>\n",
       "      <td>45236699</td>\n",
       "      <td>Africa</td>\n",
       "      <td>265691</td>\n",
       "      <td>6874</td>\n",
       "      <td>5873</td>\n",
       "      <td>152</td>\n",
       "      <td>2.587216</td>\n",
       "    </tr>\n",
       "    <tr>\n",
       "      <th>3</th>\n",
       "      <td>Andorra</td>\n",
       "      <td>Andorra</td>\n",
       "      <td>AND</td>\n",
       "      <td>77481</td>\n",
       "      <td>Europe</td>\n",
       "      <td>40024</td>\n",
       "      <td>153</td>\n",
       "      <td>516565</td>\n",
       "      <td>1975</td>\n",
       "      <td>0.382271</td>\n",
       "    </tr>\n",
       "    <tr>\n",
       "      <th>4</th>\n",
       "      <td>Angola</td>\n",
       "      <td>Angola</td>\n",
       "      <td>AGO</td>\n",
       "      <td>34654212</td>\n",
       "      <td>Africa</td>\n",
       "      <td>99194</td>\n",
       "      <td>1900</td>\n",
       "      <td>2862</td>\n",
       "      <td>55</td>\n",
       "      <td>1.915438</td>\n",
       "    </tr>\n",
       "    <tr>\n",
       "      <th>...</th>\n",
       "      <td>...</td>\n",
       "      <td>...</td>\n",
       "      <td>...</td>\n",
       "      <td>...</td>\n",
       "      <td>...</td>\n",
       "      <td>...</td>\n",
       "      <td>...</td>\n",
       "      <td>...</td>\n",
       "      <td>...</td>\n",
       "      <td>...</td>\n",
       "    </tr>\n",
       "    <tr>\n",
       "      <th>220</th>\n",
       "      <td>Wallis and Futuna</td>\n",
       "      <td>Wallis and Futuna Islands</td>\n",
       "      <td>WLF</td>\n",
       "      <td>10894</td>\n",
       "      <td>Oceania</td>\n",
       "      <td>454</td>\n",
       "      <td>7</td>\n",
       "      <td>41674</td>\n",
       "      <td>643</td>\n",
       "      <td>1.541850</td>\n",
       "    </tr>\n",
       "    <tr>\n",
       "      <th>221</th>\n",
       "      <td>Western Sahara</td>\n",
       "      <td>Western Sahara</td>\n",
       "      <td>ESHÂ</td>\n",
       "      <td>623031</td>\n",
       "      <td>Africa</td>\n",
       "      <td>10</td>\n",
       "      <td>1</td>\n",
       "      <td>16</td>\n",
       "      <td>2</td>\n",
       "      <td>10.000000</td>\n",
       "    </tr>\n",
       "    <tr>\n",
       "      <th>222</th>\n",
       "      <td>Yemen</td>\n",
       "      <td>Yemen</td>\n",
       "      <td>YEM</td>\n",
       "      <td>30975258</td>\n",
       "      <td>Asia</td>\n",
       "      <td>11806</td>\n",
       "      <td>2143</td>\n",
       "      <td>381</td>\n",
       "      <td>69</td>\n",
       "      <td>18.151787</td>\n",
       "    </tr>\n",
       "    <tr>\n",
       "      <th>223</th>\n",
       "      <td>Zambia</td>\n",
       "      <td>Zambia</td>\n",
       "      <td>ZMB</td>\n",
       "      <td>19284482</td>\n",
       "      <td>Africa</td>\n",
       "      <td>317076</td>\n",
       "      <td>3967</td>\n",
       "      <td>16442</td>\n",
       "      <td>206</td>\n",
       "      <td>1.251120</td>\n",
       "    </tr>\n",
       "    <tr>\n",
       "      <th>224</th>\n",
       "      <td>Zimbabwe</td>\n",
       "      <td>Zimbabwe</td>\n",
       "      <td>ZWE</td>\n",
       "      <td>15241601</td>\n",
       "      <td>Africa</td>\n",
       "      <td>246525</td>\n",
       "      <td>5446</td>\n",
       "      <td>16174</td>\n",
       "      <td>357</td>\n",
       "      <td>2.209107</td>\n",
       "    </tr>\n",
       "  </tbody>\n",
       "</table>\n",
       "<p>225 rows × 10 columns</p>\n",
       "</div>"
      ],
      "text/plain": [
       "               Country                Other names ISO 3166-1 alpha-3 CODE  \\\n",
       "0          Afghanistan                Afghanistan                     AFG   \n",
       "1              Albania                    Albania                     ALB   \n",
       "2              Algeria                    Algeria                     DZA   \n",
       "3              Andorra                    Andorra                     AND   \n",
       "4               Angola                     Angola                     AGO   \n",
       "..                 ...                        ...                     ...   \n",
       "220  Wallis and Futuna  Wallis and Futuna Islands                     WLF   \n",
       "221     Western Sahara             Western Sahara                   ESHÂ    \n",
       "222              Yemen                      Yemen                     YEM   \n",
       "223             Zambia                     Zambia                     ZMB   \n",
       "224           Zimbabwe                   Zimbabwe                     ZWE   \n",
       "\n",
       "     Population Continent  Total Cases  Total Deaths  Tot Cases//1M pop  \\\n",
       "0      40462186      Asia       177827          7671               4395   \n",
       "1       2872296    Europe       273870          3492              95349   \n",
       "2      45236699    Africa       265691          6874               5873   \n",
       "3         77481    Europe        40024           153             516565   \n",
       "4      34654212    Africa        99194          1900               2862   \n",
       "..          ...       ...          ...           ...                ...   \n",
       "220       10894   Oceania          454             7              41674   \n",
       "221      623031    Africa           10             1                 16   \n",
       "222    30975258      Asia        11806          2143                381   \n",
       "223    19284482    Africa       317076          3967              16442   \n",
       "224    15241601    Africa       246525          5446              16174   \n",
       "\n",
       "     Tot Deaths/1M pop  Death percentage  \n",
       "0                  190          4.313743  \n",
       "1                 1216          1.275058  \n",
       "2                  152          2.587216  \n",
       "3                 1975          0.382271  \n",
       "4                   55          1.915438  \n",
       "..                 ...               ...  \n",
       "220                643          1.541850  \n",
       "221                  2         10.000000  \n",
       "222                 69         18.151787  \n",
       "223                206          1.251120  \n",
       "224                357          2.209107  \n",
       "\n",
       "[225 rows x 10 columns]"
      ]
     },
     "execution_count": 1,
     "metadata": {},
     "output_type": "execute_result"
    }
   ],
   "source": [
    "import pandas as pd\n",
    "import numpy as num\n",
    "import seaborn as sns\n",
    "import matplotlib.pyplot as plt\n",
    "df=pd.read_csv(\"COVID-19 Coronavirus.csv\")\n",
    "df"
   ]
  },
  {
   "cell_type": "markdown",
   "id": "46cd7848-2382-484b-b311-79c9938ecacc",
   "metadata": {},
   "source": [
    "# 2.check the shape "
   ]
  },
  {
   "cell_type": "code",
   "execution_count": 2,
   "id": "8967310a-6653-462a-b845-f2a91333a48c",
   "metadata": {},
   "outputs": [
    {
     "data": {
      "text/plain": [
       "(225, 10)"
      ]
     },
     "execution_count": 2,
     "metadata": {},
     "output_type": "execute_result"
    }
   ],
   "source": [
    "df.shape"
   ]
  },
  {
   "cell_type": "markdown",
   "id": "d1c4272a-617a-4be7-b39e-c1d2269119a7",
   "metadata": {},
   "source": [
    "# 3.check head "
   ]
  },
  {
   "cell_type": "code",
   "execution_count": 3,
   "id": "093d4f9d-7e5d-4e7e-b993-41af7c1bc553",
   "metadata": {},
   "outputs": [
    {
     "data": {
      "text/html": [
       "<div>\n",
       "<style scoped>\n",
       "    .dataframe tbody tr th:only-of-type {\n",
       "        vertical-align: middle;\n",
       "    }\n",
       "\n",
       "    .dataframe tbody tr th {\n",
       "        vertical-align: top;\n",
       "    }\n",
       "\n",
       "    .dataframe thead th {\n",
       "        text-align: right;\n",
       "    }\n",
       "</style>\n",
       "<table border=\"1\" class=\"dataframe\">\n",
       "  <thead>\n",
       "    <tr style=\"text-align: right;\">\n",
       "      <th></th>\n",
       "      <th>Country</th>\n",
       "      <th>Other names</th>\n",
       "      <th>ISO 3166-1 alpha-3 CODE</th>\n",
       "      <th>Population</th>\n",
       "      <th>Continent</th>\n",
       "      <th>Total Cases</th>\n",
       "      <th>Total Deaths</th>\n",
       "      <th>Tot Cases//1M pop</th>\n",
       "      <th>Tot Deaths/1M pop</th>\n",
       "      <th>Death percentage</th>\n",
       "    </tr>\n",
       "  </thead>\n",
       "  <tbody>\n",
       "    <tr>\n",
       "      <th>0</th>\n",
       "      <td>Afghanistan</td>\n",
       "      <td>Afghanistan</td>\n",
       "      <td>AFG</td>\n",
       "      <td>40462186</td>\n",
       "      <td>Asia</td>\n",
       "      <td>177827</td>\n",
       "      <td>7671</td>\n",
       "      <td>4395</td>\n",
       "      <td>190</td>\n",
       "      <td>4.313743</td>\n",
       "    </tr>\n",
       "    <tr>\n",
       "      <th>1</th>\n",
       "      <td>Albania</td>\n",
       "      <td>Albania</td>\n",
       "      <td>ALB</td>\n",
       "      <td>2872296</td>\n",
       "      <td>Europe</td>\n",
       "      <td>273870</td>\n",
       "      <td>3492</td>\n",
       "      <td>95349</td>\n",
       "      <td>1216</td>\n",
       "      <td>1.275058</td>\n",
       "    </tr>\n",
       "    <tr>\n",
       "      <th>2</th>\n",
       "      <td>Algeria</td>\n",
       "      <td>Algeria</td>\n",
       "      <td>DZA</td>\n",
       "      <td>45236699</td>\n",
       "      <td>Africa</td>\n",
       "      <td>265691</td>\n",
       "      <td>6874</td>\n",
       "      <td>5873</td>\n",
       "      <td>152</td>\n",
       "      <td>2.587216</td>\n",
       "    </tr>\n",
       "    <tr>\n",
       "      <th>3</th>\n",
       "      <td>Andorra</td>\n",
       "      <td>Andorra</td>\n",
       "      <td>AND</td>\n",
       "      <td>77481</td>\n",
       "      <td>Europe</td>\n",
       "      <td>40024</td>\n",
       "      <td>153</td>\n",
       "      <td>516565</td>\n",
       "      <td>1975</td>\n",
       "      <td>0.382271</td>\n",
       "    </tr>\n",
       "    <tr>\n",
       "      <th>4</th>\n",
       "      <td>Angola</td>\n",
       "      <td>Angola</td>\n",
       "      <td>AGO</td>\n",
       "      <td>34654212</td>\n",
       "      <td>Africa</td>\n",
       "      <td>99194</td>\n",
       "      <td>1900</td>\n",
       "      <td>2862</td>\n",
       "      <td>55</td>\n",
       "      <td>1.915438</td>\n",
       "    </tr>\n",
       "  </tbody>\n",
       "</table>\n",
       "</div>"
      ],
      "text/plain": [
       "       Country  Other names ISO 3166-1 alpha-3 CODE  Population Continent  \\\n",
       "0  Afghanistan  Afghanistan                     AFG    40462186      Asia   \n",
       "1      Albania      Albania                     ALB     2872296    Europe   \n",
       "2      Algeria      Algeria                     DZA    45236699    Africa   \n",
       "3      Andorra      Andorra                     AND       77481    Europe   \n",
       "4       Angola       Angola                     AGO    34654212    Africa   \n",
       "\n",
       "   Total Cases  Total Deaths  Tot Cases//1M pop  Tot Deaths/1M pop  \\\n",
       "0       177827          7671               4395                190   \n",
       "1       273870          3492              95349               1216   \n",
       "2       265691          6874               5873                152   \n",
       "3        40024           153             516565               1975   \n",
       "4        99194          1900               2862                 55   \n",
       "\n",
       "   Death percentage  \n",
       "0          4.313743  \n",
       "1          1.275058  \n",
       "2          2.587216  \n",
       "3          0.382271  \n",
       "4          1.915438  "
      ]
     },
     "execution_count": 3,
     "metadata": {},
     "output_type": "execute_result"
    }
   ],
   "source": [
    "df.head()"
   ]
  },
  {
   "cell_type": "markdown",
   "id": "34ba44f5-3736-4159-a629-a1a381eaa062",
   "metadata": {},
   "source": [
    "# 4.check tail "
   ]
  },
  {
   "cell_type": "code",
   "execution_count": 4,
   "id": "168c2e14-e6d2-4cd2-84be-86c5f18ad96c",
   "metadata": {},
   "outputs": [
    {
     "data": {
      "text/html": [
       "<div>\n",
       "<style scoped>\n",
       "    .dataframe tbody tr th:only-of-type {\n",
       "        vertical-align: middle;\n",
       "    }\n",
       "\n",
       "    .dataframe tbody tr th {\n",
       "        vertical-align: top;\n",
       "    }\n",
       "\n",
       "    .dataframe thead th {\n",
       "        text-align: right;\n",
       "    }\n",
       "</style>\n",
       "<table border=\"1\" class=\"dataframe\">\n",
       "  <thead>\n",
       "    <tr style=\"text-align: right;\">\n",
       "      <th></th>\n",
       "      <th>Country</th>\n",
       "      <th>Other names</th>\n",
       "      <th>ISO 3166-1 alpha-3 CODE</th>\n",
       "      <th>Population</th>\n",
       "      <th>Continent</th>\n",
       "      <th>Total Cases</th>\n",
       "      <th>Total Deaths</th>\n",
       "      <th>Tot Cases//1M pop</th>\n",
       "      <th>Tot Deaths/1M pop</th>\n",
       "      <th>Death percentage</th>\n",
       "    </tr>\n",
       "  </thead>\n",
       "  <tbody>\n",
       "    <tr>\n",
       "      <th>220</th>\n",
       "      <td>Wallis and Futuna</td>\n",
       "      <td>Wallis and Futuna Islands</td>\n",
       "      <td>WLF</td>\n",
       "      <td>10894</td>\n",
       "      <td>Oceania</td>\n",
       "      <td>454</td>\n",
       "      <td>7</td>\n",
       "      <td>41674</td>\n",
       "      <td>643</td>\n",
       "      <td>1.541850</td>\n",
       "    </tr>\n",
       "    <tr>\n",
       "      <th>221</th>\n",
       "      <td>Western Sahara</td>\n",
       "      <td>Western Sahara</td>\n",
       "      <td>ESHÂ</td>\n",
       "      <td>623031</td>\n",
       "      <td>Africa</td>\n",
       "      <td>10</td>\n",
       "      <td>1</td>\n",
       "      <td>16</td>\n",
       "      <td>2</td>\n",
       "      <td>10.000000</td>\n",
       "    </tr>\n",
       "    <tr>\n",
       "      <th>222</th>\n",
       "      <td>Yemen</td>\n",
       "      <td>Yemen</td>\n",
       "      <td>YEM</td>\n",
       "      <td>30975258</td>\n",
       "      <td>Asia</td>\n",
       "      <td>11806</td>\n",
       "      <td>2143</td>\n",
       "      <td>381</td>\n",
       "      <td>69</td>\n",
       "      <td>18.151787</td>\n",
       "    </tr>\n",
       "    <tr>\n",
       "      <th>223</th>\n",
       "      <td>Zambia</td>\n",
       "      <td>Zambia</td>\n",
       "      <td>ZMB</td>\n",
       "      <td>19284482</td>\n",
       "      <td>Africa</td>\n",
       "      <td>317076</td>\n",
       "      <td>3967</td>\n",
       "      <td>16442</td>\n",
       "      <td>206</td>\n",
       "      <td>1.251120</td>\n",
       "    </tr>\n",
       "    <tr>\n",
       "      <th>224</th>\n",
       "      <td>Zimbabwe</td>\n",
       "      <td>Zimbabwe</td>\n",
       "      <td>ZWE</td>\n",
       "      <td>15241601</td>\n",
       "      <td>Africa</td>\n",
       "      <td>246525</td>\n",
       "      <td>5446</td>\n",
       "      <td>16174</td>\n",
       "      <td>357</td>\n",
       "      <td>2.209107</td>\n",
       "    </tr>\n",
       "  </tbody>\n",
       "</table>\n",
       "</div>"
      ],
      "text/plain": [
       "               Country                Other names ISO 3166-1 alpha-3 CODE  \\\n",
       "220  Wallis and Futuna  Wallis and Futuna Islands                     WLF   \n",
       "221     Western Sahara             Western Sahara                   ESHÂ    \n",
       "222              Yemen                      Yemen                     YEM   \n",
       "223             Zambia                     Zambia                     ZMB   \n",
       "224           Zimbabwe                   Zimbabwe                     ZWE   \n",
       "\n",
       "     Population Continent  Total Cases  Total Deaths  Tot Cases//1M pop  \\\n",
       "220       10894   Oceania          454             7              41674   \n",
       "221      623031    Africa           10             1                 16   \n",
       "222    30975258      Asia        11806          2143                381   \n",
       "223    19284482    Africa       317076          3967              16442   \n",
       "224    15241601    Africa       246525          5446              16174   \n",
       "\n",
       "     Tot Deaths/1M pop  Death percentage  \n",
       "220                643          1.541850  \n",
       "221                  2         10.000000  \n",
       "222                 69         18.151787  \n",
       "223                206          1.251120  \n",
       "224                357          2.209107  "
      ]
     },
     "execution_count": 4,
     "metadata": {},
     "output_type": "execute_result"
    }
   ],
   "source": [
    "df.tail()"
   ]
  },
  {
   "cell_type": "markdown",
   "id": "890b0898-4830-4a97-8509-a7d03084ab8f",
   "metadata": {},
   "source": [
    "# 5.check info "
   ]
  },
  {
   "cell_type": "code",
   "execution_count": 5,
   "id": "b19a2ce8-121f-4ffd-be63-b14626444db0",
   "metadata": {},
   "outputs": [
    {
     "name": "stdout",
     "output_type": "stream",
     "text": [
      "<class 'pandas.core.frame.DataFrame'>\n",
      "RangeIndex: 225 entries, 0 to 224\n",
      "Data columns (total 10 columns):\n",
      " #   Column                   Non-Null Count  Dtype  \n",
      "---  ------                   --------------  -----  \n",
      " 0   Country                  225 non-null    object \n",
      " 1   Other names              224 non-null    object \n",
      " 2   ISO 3166-1 alpha-3 CODE  225 non-null    object \n",
      " 3   Population               225 non-null    int64  \n",
      " 4   Continent                225 non-null    object \n",
      " 5   Total Cases              225 non-null    int64  \n",
      " 6   Total Deaths             225 non-null    int64  \n",
      " 7   Tot Cases//1M pop        225 non-null    int64  \n",
      " 8   Tot Deaths/1M pop        225 non-null    int64  \n",
      " 9   Death percentage         225 non-null    float64\n",
      "dtypes: float64(1), int64(5), object(4)\n",
      "memory usage: 17.7+ KB\n"
     ]
    }
   ],
   "source": [
    "df.info()"
   ]
  },
  {
   "cell_type": "markdown",
   "id": "77034e6d-90ac-4071-94b6-a0f487ba7e1e",
   "metadata": {},
   "source": [
    "# 6.check missing values"
   ]
  },
  {
   "cell_type": "code",
   "execution_count": 6,
   "id": "2bac259b-d6b4-43d9-9ace-cbdd2bbb5294",
   "metadata": {},
   "outputs": [
    {
     "data": {
      "text/plain": [
       "Country                    0\n",
       "Other names                1\n",
       "ISO 3166-1 alpha-3 CODE    0\n",
       "Population                 0\n",
       "Continent                  0\n",
       "Total Cases                0\n",
       "Total Deaths               0\n",
       "Tot Cases//1M pop          0\n",
       "Tot Deaths/1M pop          0\n",
       "Death percentage           0\n",
       "dtype: int64"
      ]
     },
     "execution_count": 6,
     "metadata": {},
     "output_type": "execute_result"
    }
   ],
   "source": [
    "df.isnull().sum()"
   ]
  },
  {
   "cell_type": "code",
   "execution_count": 7,
   "id": "2c903af8-e6ba-4708-aeb5-f3f1f640ffb6",
   "metadata": {},
   "outputs": [
    {
     "data": {
      "text/plain": [
       "Country                    False\n",
       "Other names                 True\n",
       "ISO 3166-1 alpha-3 CODE    False\n",
       "Population                 False\n",
       "Continent                  False\n",
       "Total Cases                False\n",
       "Total Deaths               False\n",
       "Tot Cases//1M pop          False\n",
       "Tot Deaths/1M pop          False\n",
       "Death percentage           False\n",
       "dtype: bool"
      ]
     },
     "execution_count": 7,
     "metadata": {},
     "output_type": "execute_result"
    }
   ],
   "source": [
    "df.isnull().any()"
   ]
  },
  {
   "cell_type": "markdown",
   "id": "19487346-8a05-4165-af30-17ff3d5ee334",
   "metadata": {},
   "source": [
    "# 7. row which contains null values "
   ]
  },
  {
   "cell_type": "code",
   "execution_count": 8,
   "id": "95dbb1d7-8090-4c2e-87e8-411f34aca339",
   "metadata": {},
   "outputs": [
    {
     "data": {
      "text/html": [
       "<div>\n",
       "<style scoped>\n",
       "    .dataframe tbody tr th:only-of-type {\n",
       "        vertical-align: middle;\n",
       "    }\n",
       "\n",
       "    .dataframe tbody tr th {\n",
       "        vertical-align: top;\n",
       "    }\n",
       "\n",
       "    .dataframe thead th {\n",
       "        text-align: right;\n",
       "    }\n",
       "</style>\n",
       "<table border=\"1\" class=\"dataframe\">\n",
       "  <thead>\n",
       "    <tr style=\"text-align: right;\">\n",
       "      <th></th>\n",
       "      <th>Country</th>\n",
       "      <th>Other names</th>\n",
       "      <th>ISO 3166-1 alpha-3 CODE</th>\n",
       "      <th>Population</th>\n",
       "      <th>Continent</th>\n",
       "      <th>Total Cases</th>\n",
       "      <th>Total Deaths</th>\n",
       "      <th>Tot Cases//1M pop</th>\n",
       "      <th>Tot Deaths/1M pop</th>\n",
       "      <th>Death percentage</th>\n",
       "    </tr>\n",
       "  </thead>\n",
       "  <tbody>\n",
       "    <tr>\n",
       "      <th>135</th>\n",
       "      <td>Montenegro</td>\n",
       "      <td>NaN</td>\n",
       "      <td>MNE</td>\n",
       "      <td>628205</td>\n",
       "      <td>Europe</td>\n",
       "      <td>233326</td>\n",
       "      <td>2705</td>\n",
       "      <td>371417</td>\n",
       "      <td>4306</td>\n",
       "      <td>1.159322</td>\n",
       "    </tr>\n",
       "  </tbody>\n",
       "</table>\n",
       "</div>"
      ],
      "text/plain": [
       "        Country Other names ISO 3166-1 alpha-3 CODE  Population Continent  \\\n",
       "135  Montenegro         NaN                     MNE      628205    Europe   \n",
       "\n",
       "     Total Cases  Total Deaths  Tot Cases//1M pop  Tot Deaths/1M pop  \\\n",
       "135       233326          2705             371417               4306   \n",
       "\n",
       "     Death percentage  \n",
       "135          1.159322  "
      ]
     },
     "execution_count": 8,
     "metadata": {},
     "output_type": "execute_result"
    }
   ],
   "source": [
    "df[df.isna().any(axis=1)]"
   ]
  },
  {
   "cell_type": "markdown",
   "id": "e16b5b58-cf4c-4f86-a19c-c0f241824fbe",
   "metadata": {},
   "source": [
    "# 8. fill null value with most suitable value"
   ]
  },
  {
   "cell_type": "code",
   "execution_count": 9,
   "id": "4d842799-a128-48d4-b48d-18ef1b571370",
   "metadata": {},
   "outputs": [],
   "source": [
    "df.fillna(\" Montenegro\", inplace = True)"
   ]
  },
  {
   "cell_type": "markdown",
   "id": "37abfe33-3309-4771-826f-f2c58c917932",
   "metadata": {},
   "source": [
    "# 9. sanity check weather null values are replaced or not"
   ]
  },
  {
   "cell_type": "code",
   "execution_count": 10,
   "id": "af903911-9245-4a00-b02c-ebd617ee2415",
   "metadata": {},
   "outputs": [
    {
     "data": {
      "text/plain": [
       "Country                    0\n",
       "Other names                0\n",
       "ISO 3166-1 alpha-3 CODE    0\n",
       "Population                 0\n",
       "Continent                  0\n",
       "Total Cases                0\n",
       "Total Deaths               0\n",
       "Tot Cases//1M pop          0\n",
       "Tot Deaths/1M pop          0\n",
       "Death percentage           0\n",
       "dtype: int64"
      ]
     },
     "execution_count": 10,
     "metadata": {},
     "output_type": "execute_result"
    }
   ],
   "source": [
    "df.isnull().sum()"
   ]
  },
  {
   "cell_type": "code",
   "execution_count": 11,
   "id": "d574c546-ef09-4e47-8ccd-0043bc983167",
   "metadata": {},
   "outputs": [
    {
     "name": "stdout",
     "output_type": "stream",
     "text": [
      "<class 'pandas.core.frame.DataFrame'>\n",
      "RangeIndex: 225 entries, 0 to 224\n",
      "Data columns (total 10 columns):\n",
      " #   Column                   Non-Null Count  Dtype  \n",
      "---  ------                   --------------  -----  \n",
      " 0   Country                  225 non-null    object \n",
      " 1   Other names              225 non-null    object \n",
      " 2   ISO 3166-1 alpha-3 CODE  225 non-null    object \n",
      " 3   Population               225 non-null    int64  \n",
      " 4   Continent                225 non-null    object \n",
      " 5   Total Cases              225 non-null    int64  \n",
      " 6   Total Deaths             225 non-null    int64  \n",
      " 7   Tot Cases//1M pop        225 non-null    int64  \n",
      " 8   Tot Deaths/1M pop        225 non-null    int64  \n",
      " 9   Death percentage         225 non-null    float64\n",
      "dtypes: float64(1), int64(5), object(4)\n",
      "memory usage: 17.7+ KB\n"
     ]
    }
   ],
   "source": [
    "df.info()"
   ]
  },
  {
   "cell_type": "markdown",
   "id": "2773a946-bb1a-4020-b5d1-0101c2bcb858",
   "metadata": {},
   "source": [
    "# 10. check stats information of data set."
   ]
  },
  {
   "cell_type": "code",
   "execution_count": 12,
   "id": "878760ae-cf2f-410c-9eda-50ceecb13915",
   "metadata": {},
   "outputs": [
    {
     "data": {
      "text/html": [
       "<div>\n",
       "<style scoped>\n",
       "    .dataframe tbody tr th:only-of-type {\n",
       "        vertical-align: middle;\n",
       "    }\n",
       "\n",
       "    .dataframe tbody tr th {\n",
       "        vertical-align: top;\n",
       "    }\n",
       "\n",
       "    .dataframe thead th {\n",
       "        text-align: right;\n",
       "    }\n",
       "</style>\n",
       "<table border=\"1\" class=\"dataframe\">\n",
       "  <thead>\n",
       "    <tr style=\"text-align: right;\">\n",
       "      <th></th>\n",
       "      <th>Population</th>\n",
       "      <th>Total Cases</th>\n",
       "      <th>Total Deaths</th>\n",
       "      <th>Tot Cases//1M pop</th>\n",
       "      <th>Tot Deaths/1M pop</th>\n",
       "      <th>Death percentage</th>\n",
       "    </tr>\n",
       "  </thead>\n",
       "  <tbody>\n",
       "    <tr>\n",
       "      <th>count</th>\n",
       "      <td>2.250000e+02</td>\n",
       "      <td>2.250000e+02</td>\n",
       "      <td>2.250000e+02</td>\n",
       "      <td>225.000000</td>\n",
       "      <td>225.000000</td>\n",
       "      <td>225.000000</td>\n",
       "    </tr>\n",
       "    <tr>\n",
       "      <th>mean</th>\n",
       "      <td>3.507321e+07</td>\n",
       "      <td>2.184781e+06</td>\n",
       "      <td>2.744813e+04</td>\n",
       "      <td>136900.373333</td>\n",
       "      <td>1096.715556</td>\n",
       "      <td>1.444125</td>\n",
       "    </tr>\n",
       "    <tr>\n",
       "      <th>std</th>\n",
       "      <td>1.392418e+08</td>\n",
       "      <td>7.275938e+06</td>\n",
       "      <td>9.689177e+04</td>\n",
       "      <td>145060.340289</td>\n",
       "      <td>1195.715543</td>\n",
       "      <td>1.741728</td>\n",
       "    </tr>\n",
       "    <tr>\n",
       "      <th>min</th>\n",
       "      <td>8.050000e+02</td>\n",
       "      <td>1.000000e+00</td>\n",
       "      <td>0.000000e+00</td>\n",
       "      <td>9.000000</td>\n",
       "      <td>0.000000</td>\n",
       "      <td>0.000000</td>\n",
       "    </tr>\n",
       "    <tr>\n",
       "      <th>25%</th>\n",
       "      <td>5.665570e+05</td>\n",
       "      <td>2.407100e+04</td>\n",
       "      <td>1.890000e+02</td>\n",
       "      <td>11384.000000</td>\n",
       "      <td>123.000000</td>\n",
       "      <td>0.511291</td>\n",
       "    </tr>\n",
       "    <tr>\n",
       "      <th>50%</th>\n",
       "      <td>5.827911e+06</td>\n",
       "      <td>1.639360e+05</td>\n",
       "      <td>1.965000e+03</td>\n",
       "      <td>88987.000000</td>\n",
       "      <td>708.000000</td>\n",
       "      <td>1.036905</td>\n",
       "    </tr>\n",
       "    <tr>\n",
       "      <th>75%</th>\n",
       "      <td>2.190585e+07</td>\n",
       "      <td>1.092547e+06</td>\n",
       "      <td>1.366000e+04</td>\n",
       "      <td>223335.000000</td>\n",
       "      <td>1795.000000</td>\n",
       "      <td>1.977017</td>\n",
       "    </tr>\n",
       "    <tr>\n",
       "      <th>max</th>\n",
       "      <td>1.439324e+09</td>\n",
       "      <td>8.183905e+07</td>\n",
       "      <td>1.008222e+06</td>\n",
       "      <td>696044.000000</td>\n",
       "      <td>6286.000000</td>\n",
       "      <td>18.151787</td>\n",
       "    </tr>\n",
       "  </tbody>\n",
       "</table>\n",
       "</div>"
      ],
      "text/plain": [
       "         Population   Total Cases  Total Deaths  Tot Cases//1M pop  \\\n",
       "count  2.250000e+02  2.250000e+02  2.250000e+02         225.000000   \n",
       "mean   3.507321e+07  2.184781e+06  2.744813e+04      136900.373333   \n",
       "std    1.392418e+08  7.275938e+06  9.689177e+04      145060.340289   \n",
       "min    8.050000e+02  1.000000e+00  0.000000e+00           9.000000   \n",
       "25%    5.665570e+05  2.407100e+04  1.890000e+02       11384.000000   \n",
       "50%    5.827911e+06  1.639360e+05  1.965000e+03       88987.000000   \n",
       "75%    2.190585e+07  1.092547e+06  1.366000e+04      223335.000000   \n",
       "max    1.439324e+09  8.183905e+07  1.008222e+06      696044.000000   \n",
       "\n",
       "       Tot Deaths/1M pop  Death percentage  \n",
       "count         225.000000        225.000000  \n",
       "mean         1096.715556          1.444125  \n",
       "std          1195.715543          1.741728  \n",
       "min             0.000000          0.000000  \n",
       "25%           123.000000          0.511291  \n",
       "50%           708.000000          1.036905  \n",
       "75%          1795.000000          1.977017  \n",
       "max          6286.000000         18.151787  "
      ]
     },
     "execution_count": 12,
     "metadata": {},
     "output_type": "execute_result"
    }
   ],
   "source": [
    "df.describe()"
   ]
  },
  {
   "cell_type": "markdown",
   "id": "070e2799-7d0b-411f-acd2-537158aeb5ce",
   "metadata": {},
   "source": [
    "# 11. top 5 countries which have more number of covid cases "
   ]
  },
  {
   "cell_type": "code",
   "execution_count": 13,
   "id": "9184a919-b3fd-40a1-8aca-453ec5df3af2",
   "metadata": {},
   "outputs": [
    {
     "data": {
      "text/plain": [
       "214        USA\n",
       "92       India\n",
       "26      Brazil\n",
       "70      France\n",
       "76     Germany\n",
       "Name: Country, dtype: object"
      ]
     },
     "execution_count": 13,
     "metadata": {},
     "output_type": "execute_result"
    }
   ],
   "source": [
    "top_5= df.nlargest(5,'Total Cases')['Country']\n",
    "top_5"
   ]
  },
  {
   "cell_type": "markdown",
   "id": "57a7703b-b3d9-4084-b2e8-649f8787fb08",
   "metadata": {},
   "source": [
    "# 12. plot bar graph for top 5 countries "
   ]
  },
  {
   "cell_type": "code",
   "execution_count": 14,
   "id": "e07e171a-8e16-4ffa-b5a4-43a637543488",
   "metadata": {},
   "outputs": [
    {
     "data": {
      "image/png": "[encoded data removed]",
      "text/plain": [
       "<Figure size 1000x600 with 1 Axes>"
      ]
     },
     "metadata": {},
     "output_type": "display_data"
    }
   ],
   "source": [
    "plt.figure(figsize=(10,6))\n",
    "top_5 = top_5.reset_index()\n",
    "top_5.columns = ['Country', 'Total Cases']\n",
    "\n",
    "sns.barplot(data=top_5,x=\"Country\",y=\"Total Cases\")\n",
    "plt.xlabel('Country')\n",
    "plt.ylabel('Number of Cases')\n",
    "plt.title('Top 5 Countries with the Most COVID Cases')\n",
    "plt.show()\n"
   ]
  },
  {
   "cell_type": "markdown",
   "id": "8eb45f3e-f48c-45d6-a4cd-67bf0b89b41f",
   "metadata": {},
   "source": [
    "# 13. least 5 countries which have least number of covid cases "
   ]
  },
  {
   "cell_type": "code",
   "execution_count": 15,
   "id": "7ec55c18-fefb-4eaa-8b3a-19dea3550ee8",
   "metadata": {},
   "outputs": [
    {
     "data": {
      "text/plain": [
       "131          Micronesia\n",
       "168        Saint Helena\n",
       "125    Marshall Islands\n",
       "148                Niue\n",
       "221      Western Sahara\n",
       "Name: Country, dtype: object"
      ]
     },
     "execution_count": 15,
     "metadata": {},
     "output_type": "execute_result"
    }
   ],
   "source": [
    "least_5= df.nsmallest(5,'Total Cases')['Country']\n",
    "least_5"
   ]
  },
  {
   "cell_type": "markdown",
   "id": "f95b7317-1329-46b3-92e2-39cfbc7ae1d5",
   "metadata": {},
   "source": [
    "# 14. draw bar graph of least 5 countries"
   ]
  },
  {
   "cell_type": "code",
   "execution_count": 19,
   "id": "b75598e8-00f9-4b58-83c6-4d56c3bdff78",
   "metadata": {},
   "outputs": [
    {
     "data": {
      "image/png": "[encoded data removed]",
      "text/plain": [
       "<Figure size 750x450 with 1 Axes>"
      ]
     },
     "metadata": {},
     "output_type": "display_data"
    }
   ],
   "source": [
    "plt.figure(figsize=(10,6),dpi=75)\n",
    "least_5 = least_5.reset_index()\n",
    "least_5.columns = ['Country', 'Total Cases']\n",
    "sns.barplot(data=least_5, x=\"Country\", y=\"Total Cases\")\n",
    "plt.xlabel(\"Country\")\n",
    "plt.ylabel('Number of Cases')\n",
    "plt.title('Top 5 Countries with the least COVID Cases')\n",
    "\n",
    "plt.show()\n"
   ]
  },
  {
   "cell_type": "markdown",
   "id": "7f79ae98-08d7-49ec-b09b-972107f0e3a9",
   "metadata": {},
   "source": [
    "# 15. top 5 countries which have more number of covid Deaths "
   ]
  },
  {
   "cell_type": "code",
   "execution_count": 21,
   "id": "36a4bf7c-8554-42e4-b828-a671f9202edd",
   "metadata": {},
   "outputs": [
    {
     "data": {
      "text/plain": [
       "214       USA\n",
       "26     Brazil\n",
       "92      India\n",
       "165    Russia\n",
       "130    Mexico\n",
       "Name: Country, dtype: object"
      ]
     },
     "execution_count": 21,
     "metadata": {},
     "output_type": "execute_result"
    }
   ],
   "source": [
    "top_5d= df.nlargest(5,'Total Deaths')['Country']\n",
    "top_5d"
   ]
  },
  {
   "cell_type": "markdown",
   "id": "7264503f-eadd-469a-b855-625bc8a9f9b2",
   "metadata": {},
   "source": [
    "# 16. plot bar graph for top 5 countries which have more number of covid Deaths"
   ]
  },
  {
   "cell_type": "code",
   "execution_count": 22,
   "id": "2e4f54f1-7460-42df-852a-28542e1f2dd8",
   "metadata": {},
   "outputs": [
    {
     "data": {
      "image/png": "[encoded data removed]",
      "text/plain": [
       "<Figure size 750x450 with 1 Axes>"
      ]
     },
     "metadata": {},
     "output_type": "display_data"
    }
   ],
   "source": [
    "plt.figure(figsize=(10,6),dpi=75)\n",
    "top_5d = top_5d.reset_index()\n",
    "top_5d.columns = ['Country', 'Total Deaths']\n",
    "\n",
    "\n",
    "sns.barplot(data=top_5d, x=\"Country\", y=\"Total Deaths\")\n",
    "plt.xlabel('Country')\n",
    "plt.ylabel('Number of Deaths')\n",
    "plt.title('Top 5 Countries with the Most COVID Deaths')\n",
    "\n",
    "plt.show()\n"
   ]
  },
  {
   "cell_type": "markdown",
   "id": "e053e6bb-55e2-408a-8aaa-5f6a4a75431d",
   "metadata": {},
   "source": [
    "# 17. countries which have least number of covid Death "
   ]
  },
  {
   "cell_type": "code",
   "execution_count": null,
   "id": "e128b108-3b58-4afd-9fe5-9b8772731f4b",
   "metadata": {},
   "outputs": [],
   "source": [
    "least_5d= df.nsmallest(5,'Total Deaths')['Country']\n",
    "least_5d"
   ]
  },
  {
   "cell_type": "markdown",
   "id": "a7c4ec6a-ae3c-41dc-afd9-4541feb81c5b",
   "metadata": {},
   "source": [
    "# 18.  top 5 countries which have more number of covid  Death percentage "
   ]
  },
  {
   "cell_type": "code",
   "execution_count": 24,
   "id": "875ebcae-914b-46c9-baf0-2849ad2862e5",
   "metadata": {},
   "outputs": [
    {
     "data": {
      "text/plain": [
       "222             Yemen\n",
       "221    Western Sahara\n",
       "193             Sudan\n",
       "158              Peru\n",
       "130            Mexico\n",
       "Name: Country, dtype: object"
      ]
     },
     "execution_count": 24,
     "metadata": {},
     "output_type": "execute_result"
    }
   ],
   "source": [
    "top_5p= df.nlargest(5,'Death percentage')['Country']\n",
    "top_5p"
   ]
  },
  {
   "cell_type": "markdown",
   "id": "a269a6cd-91f0-4ad2-b939-439f1765b83c",
   "metadata": {},
   "source": [
    "# 19. plot bar graph for top 5 countries which have more number of covid  Death percentage"
   ]
  },
  {
   "cell_type": "code",
   "execution_count": 25,
   "id": "06a3f35a-29e2-41be-8715-53fce181c5b6",
   "metadata": {},
   "outputs": [
    {
     "data": {
      "image/png": "[encoded data removed]",
      "text/plain": [
       "<Figure size 750x450 with 1 Axes>"
      ]
     },
     "metadata": {},
     "output_type": "display_data"
    }
   ],
   "source": [
    "plt.figure(figsize=(10,6),dpi=75)\n",
    "top_5p = top_5p.reset_index()\n",
    "top_5p.columns = ['Country', 'Death percentage']\n",
    "\n",
    "sns.barplot(data=top_5p, x=\"Country\", y=\"Death percentage\")\n",
    "plt.xlabel('Country')\n",
    "plt.ylabel('Number of Deaths')\n",
    "plt.title('Top 5 Countries with the Most COVID Deaths')\n",
    "\n",
    "plt.show()"
   ]
  },
  {
   "cell_type": "markdown",
   "id": "c3c38166-eecd-4cc3-b426-068df06559f3",
   "metadata": {},
   "source": [
    "# 20. continent wise cases "
   ]
  },
  {
   "cell_type": "code",
   "execution_count": 26,
   "id": "aa86047c-083f-4f6d-a22e-84abc75c889c",
   "metadata": {},
   "outputs": [
    {
     "data": {
      "text/plain": [
       "Text(0.5, 1.0, 'Total Cases vs Continent')"
      ]
     },
     "execution_count": 26,
     "metadata": {},
     "output_type": "execute_result"
    },
    {
     "data": {
      "image/png": "[encoded data removed]",
      "text/plain": [
       "<Figure size 2000x800 with 1 Axes>"
      ]
     },
     "metadata": {},
     "output_type": "display_data"
    }
   ],
   "source": [
    " cat=df[[\"Continent\",\"Total Cases\"]].groupby([\"Continent\"]).sum().reset_index()\n",
    "plt.figure(figsize=(20,8))\n",
    "sns.barplot(x='Continent',y='Total Cases', data=cat)\n",
    "plt.title(\"Total Cases vs Continent\")"
   ]
  },
  {
   "cell_type": "markdown",
   "id": "d917af53-8df7-48ca-a7a3-940a0326a9c5",
   "metadata": {},
   "source": [
    "# 21.draw bar plot for continent wise case "
   ]
  },
  {
   "cell_type": "code",
   "execution_count": 27,
   "id": "0746a48d-d53e-4f9f-aa2d-45320080fff7",
   "metadata": {},
   "outputs": [
    {
     "data": {
      "image/png": "[encoded data removed]",
      "text/plain": [
       "<Figure size 1220x976 with 1 Axes>"
      ]
     },
     "metadata": {},
     "output_type": "display_data"
    }
   ],
   "source": [
    "cat= cat.reset_index()\n",
    "plt.figure(figsize=(10,8),dpi=122)\n",
    "sns.barplot(data=cat,x=\"Continent\",y=\"Total Cases\")\n",
    "plt.xlabel('Continent')\n",
    "plt.ylabel('Total Cases')\n",
    "plt.title('Top 5 Continent with the Most COVID cases')\n",
    "\n",
    "plt.show()"
   ]
  },
  {
   "cell_type": "markdown",
   "id": "41ff2fd7-f01e-4c37-b2a1-1d7b0c2b3831",
   "metadata": {},
   "source": [
    "#  22.find relationship between Population and total cases .Comment  on outliers"
   ]
  },
  {
   "cell_type": "code",
   "execution_count": 28,
   "id": "fbdabca8-7112-45a9-bfc4-6acdb8ad9ab5",
   "metadata": {},
   "outputs": [
    {
     "data": {
      "image/png": "[encoded data removed]",
      "text/plain": [
       "<Figure size 2000x800 with 1 Axes>"
      ]
     },
     "metadata": {},
     "output_type": "display_data"
    }
   ],
   "source": [
    "plt.figure(figsize=(20,8))\n",
    "sns.scatterplot(x=df[\"Population\"], y=df[\"Total Cases\"])\n",
    "plt.title(\"Population vs Total Cases\")    \n",
    "plt.show()"
   ]
  }
 ],
 "metadata": {
  "kernelspec": {
   "display_name": "Python 3 (ipykernel)",
   "language": "python",
   "name": "python3"
  },
  "language_info": {
   "codemirror_mode": {
    "name": "ipython",
    "version": 3
   },
   "file_extension": ".py",
   "mimetype": "text/x-python",
   "name": "python",
   "nbconvert_exporter": "python",
   "pygments_lexer": "ipython3",
   "version": "3.11.7"
  }
 },
 "nbformat": 4,
 "nbformat_minor": 5
}
